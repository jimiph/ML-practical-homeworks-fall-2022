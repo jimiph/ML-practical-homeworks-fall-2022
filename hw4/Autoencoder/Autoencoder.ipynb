{
 "cells": [
  {
   "cell_type": "markdown",
   "metadata": {},
   "source": [
    "<img src='http://www-scf.usc.edu/~ghasemig/images/sharif.png' alt=\"SUT logo\" width=200 height=200 align=left class=\"saturate\" >\n",
    "\n",
    "<br>\n",
    "<font face=\"Times New Roman\">\n",
    "<div dir=ltr align=center>\n",
    "<font color=0F5298 size=7>\n",
    "    Introduction to Machine Learning <br>\n",
    "<font color=2565AE size=5>\n",
    "    Computer Engineering Department <br>\n",
    "    Fall 2022<br>\n",
    "<font color=3C99D size=5>\n",
    "    Homework 3: Practical - Neural Network <br>\n",
    "<font color=696880 size=4>\n",
    "    Alireza Belal\n",
    "    \n",
    "    \n",
    "____\n"
   ]
  },
  {
   "cell_type": "markdown",
   "metadata": {},
   "source": [
    "### Full Name : Mohammad Jamshidi\n",
    "### Student Number : 98100718\n",
    "___"
   ]
  },
  {
   "cell_type": "markdown",
   "metadata": {},
   "source": [
    "# Setup"
   ]
  },
  {
   "cell_type": "markdown",
   "metadata": {},
   "source": [
    "# 0. Preparation\n",
    "\n",
    "In this part, you will use a dataset related to COVID-19. Load your dataset using pandas."
   ]
  },
  {
   "cell_type": "code",
   "execution_count": 2,
   "metadata": {},
   "outputs": [],
   "source": [
    "import pandas as pd\n",
    "from sklearn.preprocessing import LabelEncoder\n",
    "covid_data = pd.read_csv('Covid Dataset.csv')\n",
    "categorical_feature_mask = covid_data.dtypes == object\n",
    "cateforical_cols = covid_data.columns[categorical_feature_mask].tolist()\n",
    "le = LabelEncoder()\n",
    "covid_data[cateforical_cols] = covid_data[cateforical_cols].apply(lambda col: le.fit_transform(col))\n",
    "covid_data = covid_data.astype(float)\n",
    "\n",
    "# Extract X and Y from the dataset\n",
    "X_total = covid_data.iloc[:, 0:20].values\n",
    "y_total = covid_data.iloc[:,20].values\n",
    "\n",
    "\n",
    "#SPLIT THE DATA INTO TRAIN AND TEST DATA \n",
    "from sklearn.model_selection import train_test_split\n",
    "X_train, X_test, y_train, y_test = train_test_split(X_total, y_total, test_size = 0.3, random_state = 0)"
   ]
  },
  {
   "cell_type": "code",
   "execution_count": 40,
   "metadata": {},
   "outputs": [
    {
     "name": "stdout",
     "output_type": "stream",
     "text": [
      "(3803, 20)\n",
      "(1631, 20)\n",
      "(3803,)\n",
      "(1631,)\n",
      "[1. 0. 1. 0. 0. 0. 1. 0. 1. 0. 0. 0. 0. 0. 0. 0. 1. 1. 0. 0.]\n"
     ]
    }
   ],
   "source": [
    "print(X_train.shape)\n",
    "print(X_test.shape)\n",
    "print(y_train.shape)\n",
    "print(y_test.shape)\n",
    "print(X_train[0])"
   ]
  },
  {
   "cell_type": "markdown",
   "metadata": {},
   "source": [
    "---------------"
   ]
  },
  {
   "cell_type": "markdown",
   "metadata": {},
   "source": [
    "# 1. DNN as nonlinear dimensionality reduction method (50 Points)\n",
    "\n",
    "Autoencoder is an unsupervised artificial neural network that compresses the data to lower dimension and then reconstructs the input back. Autoencoder finds the representation of the data in a lower dimension by focusing more on the important features getting rid of noise and redundancy. It's based on Encoder-Decoder architecture, where encoder encodes the high-dimensional data to lower-dimension and decoder takes the lower-dimensional data and tries to reconstruct the original high-dimensional data.\n",
    "\n",
    "![picture](https://drive.google.com/uc?id=1RTZwx4xL6zFV_nUENBgWlFKLKldPoyI-)\n",
    "\n",
    "In the above Diagram, X is the input data, z is the lower-dimension representation of input X and X’ is the reconstructed input data. The mapping of higher to lower dimensions can be linear or non-linear depending on the choice of the activation function.\n",
    "\n",
    "In this part you're gonna implement an autoencoder using Keras framework as dimensionally reduction module as explained [here](https://blog.keras.io/building-autoencoders-in-keras.html).\n",
    "(It would be ok to use PyTorch as well.)\n",
    "Reduce the dimension of the data to 2 dimensions and visualize the low-dimensional data."
   ]
  },
  {
   "cell_type": "code",
   "execution_count": 114,
   "metadata": {
    "id": "moGEgpV999cl"
   },
   "outputs": [],
   "source": [
    "# import necessary libraries\n",
    "import numpy as np\n",
    "import matplotlib.pyplot as plt\n",
    "from keras.layers import Input, Dense\n",
    "from keras.models import Model\n",
    "from sklearn.model_selection import train_test_split\n",
    "from tensorflow.keras.optimizers import Adam\n",
    "from tensorflow.keras.optimizers import SGD\n",
    "from tensorflow.keras.losses import BinaryCrossentropy\n",
    "from tensorflow.keras.losses import MeanSquaredError\n",
    "from tensorflow.keras.losses import MeanAbsoluteError"
   ]
  },
  {
   "cell_type": "code",
   "execution_count": 166,
   "metadata": {},
   "outputs": [],
   "source": [
    "# define layers (25 Points)\n",
    "# input_dim = X_train.shape[1]\n",
    "# encoding_dim = 2\n",
    "# input_layer = Input(shape=(input_dim, ))\n",
    "# encd1 = Dense(input_dim, activation='relu')(input_layer)\n",
    "# encd2 = Dense(15, activation='relu')(encd1)\n",
    "# encd3 = Dense(10, activation='relu')(encd2)\n",
    "# encd4 = Dense(5, activation='relu')(encd3)\n",
    "# latent = Dense(encoding_dim, activation='relu')(encd4)\n",
    "# decd1 = Dense(5, activation='relu')(latent)\n",
    "# decd2 = Dense(10, activation='relu')(decd1)\n",
    "# decd3 = Dense(15, activation='relu')(decd2)\n",
    "# decd4 = Dense(input_dim, activation='sigmoid')(decd3)\n",
    "# autoencoder = Model(inputs = input_layer, outputs = decd4)\n",
    "\n",
    "\n",
    "\n",
    "# define layers (25 Points)\n",
    "input_dim = X_train.shape[1]\n",
    "encoding_dim = 2\n",
    "input_layer = Input(shape=(input_dim, ))\n",
    "encd1 = Dense(10, activation='gelu')(input_layer)\n",
    "encd2 = Dense(5, activation='relu')(encd1)\n",
    "latent = Dense(encoding_dim, activation='relu')(encd2)\n",
    "decd1 = Dense(5, activation='relu')(latent)\n",
    "decd2 = Dense(10, activation='relu')(decd1)\n",
    "decd3 = Dense(input_dim, activation='sigmoid')(decd2)\n",
    "autoencoder = Model(inputs = input_layer, outputs = decd3)\n",
    "\n",
    "\n",
    "\n",
    "\n",
    "# input_dim = X_train.shape[1]\n",
    "# encoding_dim = 2\n",
    "# input_layer = Input(shape=(input_dim, ))\n",
    "# encd1 = Dense(input_dim, activation='selu')(input_layer)\n",
    "# encd2 = Dense(18, activation='selu')(encd1)\n",
    "# encd3 = Dense(16, activation='selu')(encd2)\n",
    "# encd4 = Dense(14, activation='selu')(encd3)\n",
    "# encd5 = Dense(12, activation='selu')(encd4)\n",
    "# encd6 = Dense(10, activation='selu')(encd5)\n",
    "# encd7 = Dense(8, activation='selu')(encd6)\n",
    "# encd8 = Dense(6, activation='selu')(encd7)\n",
    "# encd9 = Dense(4, activation='selu')(encd8)\n",
    "# latent = Dense(encoding_dim, activation='selu')(encd9)\n",
    "# decd1 = Dense(4, activation='selu')(latent)\n",
    "# decd2 = Dense(6, activation='selu')(decd1)\n",
    "# decd3 = Dense(8, activation='selu')(decd2)\n",
    "# decd4 = Dense(10, activation='selu')(decd3)\n",
    "# decd5 = Dense(12, activation='selu')(decd4)\n",
    "# decd6 = Dense(14, activation='selu')(decd5)\n",
    "# decd7 = Dense(16, activation='selu')(decd6)\n",
    "# decd8 = Dense(18, activation='selu')(decd7)\n",
    "# decd9 = Dense(input_dim, activation='sigmoid')(decd8)\n",
    "# autoencoder = Model(inputs = input_layer, outputs = decd9)"
   ]
  },
  {
   "cell_type": "code",
   "execution_count": 165,
   "metadata": {},
   "outputs": [
    {
     "name": "stdout",
     "output_type": "stream",
     "text": [
      "Epoch 1/200\n",
      "60/60 [==============================] - 2s 5ms/step - loss: 0.1875 - val_loss: 0.1964\n",
      "Epoch 2/200\n",
      "60/60 [==============================] - 0s 3ms/step - loss: 0.1878 - val_loss: 0.1962\n",
      "Epoch 3/200\n",
      "60/60 [==============================] - 0s 4ms/step - loss: 0.1874 - val_loss: 0.1958\n",
      "Epoch 4/200\n",
      "60/60 [==============================] - 0s 4ms/step - loss: 0.1873 - val_loss: 0.1955\n",
      "Epoch 5/200\n",
      "60/60 [==============================] - 0s 3ms/step - loss: 0.1873 - val_loss: 0.1954\n",
      "Epoch 6/200\n",
      "60/60 [==============================] - 0s 4ms/step - loss: 0.1870 - val_loss: 0.1952\n",
      "Epoch 7/200\n",
      "60/60 [==============================] - 0s 4ms/step - loss: 0.1867 - val_loss: 0.1954\n",
      "Epoch 8/200\n",
      "60/60 [==============================] - 0s 3ms/step - loss: 0.1867 - val_loss: 0.1950\n",
      "Epoch 9/200\n",
      "60/60 [==============================] - 0s 4ms/step - loss: 0.1868 - val_loss: 0.1948\n",
      "Epoch 10/200\n",
      "60/60 [==============================] - 0s 3ms/step - loss: 0.1866 - val_loss: 0.1950\n",
      "Epoch 11/200\n",
      "60/60 [==============================] - 0s 4ms/step - loss: 0.1865 - val_loss: 0.1947\n",
      "Epoch 12/200\n",
      "60/60 [==============================] - 0s 3ms/step - loss: 0.1865 - val_loss: 0.1959\n",
      "Epoch 13/200\n",
      "60/60 [==============================] - 0s 3ms/step - loss: 0.1870 - val_loss: 0.1973\n",
      "Epoch 14/200\n",
      "60/60 [==============================] - 0s 3ms/step - loss: 0.1870 - val_loss: 0.1947\n",
      "Epoch 15/200\n",
      "60/60 [==============================] - 0s 3ms/step - loss: 0.1865 - val_loss: 0.1946\n",
      "Epoch 16/200\n",
      "60/60 [==============================] - 0s 3ms/step - loss: 0.1864 - val_loss: 0.1945\n",
      "Epoch 17/200\n",
      "60/60 [==============================] - 0s 3ms/step - loss: 0.1863 - val_loss: 0.1944\n",
      "Epoch 18/200\n",
      "60/60 [==============================] - 0s 3ms/step - loss: 0.1863 - val_loss: 0.1944\n",
      "Epoch 19/200\n",
      "60/60 [==============================] - 0s 3ms/step - loss: 0.1863 - val_loss: 0.1943\n",
      "Epoch 20/200\n",
      "60/60 [==============================] - 0s 3ms/step - loss: 0.1872 - val_loss: 0.1964\n",
      "Epoch 21/200\n",
      "60/60 [==============================] - 0s 3ms/step - loss: 0.1874 - val_loss: 0.1948\n",
      "Epoch 22/200\n",
      "60/60 [==============================] - 0s 3ms/step - loss: 0.1866 - val_loss: 0.1950\n",
      "Epoch 23/200\n",
      "60/60 [==============================] - 0s 3ms/step - loss: 0.1861 - val_loss: 0.1943\n",
      "Epoch 24/200\n",
      "60/60 [==============================] - 0s 3ms/step - loss: 0.1860 - val_loss: 0.1948\n",
      "Epoch 25/200\n",
      "60/60 [==============================] - 0s 4ms/step - loss: 0.1861 - val_loss: 0.1943\n",
      "Epoch 26/200\n",
      "60/60 [==============================] - 0s 3ms/step - loss: 0.1860 - val_loss: 0.1946\n",
      "Epoch 27/200\n",
      "60/60 [==============================] - 0s 3ms/step - loss: 0.1866 - val_loss: 0.1945\n",
      "Epoch 28/200\n",
      "60/60 [==============================] - 0s 3ms/step - loss: 0.1864 - val_loss: 0.1986\n",
      "Epoch 29/200\n",
      "60/60 [==============================] - 0s 3ms/step - loss: 0.1892 - val_loss: 0.1950\n",
      "Epoch 30/200\n",
      "60/60 [==============================] - 0s 3ms/step - loss: 0.1865 - val_loss: 0.1944\n",
      "Epoch 31/200\n",
      "60/60 [==============================] - 0s 3ms/step - loss: 0.1862 - val_loss: 0.1950\n",
      "Epoch 32/200\n",
      "60/60 [==============================] - 0s 3ms/step - loss: 0.1861 - val_loss: 0.1945\n",
      "Epoch 33/200\n",
      "60/60 [==============================] - 0s 3ms/step - loss: 0.1859 - val_loss: 0.1948\n",
      "Epoch 34/200\n",
      "60/60 [==============================] - 0s 3ms/step - loss: 0.1859 - val_loss: 0.1941\n",
      "Epoch 35/200\n",
      "60/60 [==============================] - 0s 3ms/step - loss: 0.1858 - val_loss: 0.1942\n",
      "Epoch 36/200\n",
      "60/60 [==============================] - 0s 3ms/step - loss: 0.1863 - val_loss: 0.1951\n",
      "Epoch 37/200\n",
      "60/60 [==============================] - 0s 3ms/step - loss: 0.1862 - val_loss: 0.1944\n",
      "Epoch 38/200\n",
      "60/60 [==============================] - 0s 3ms/step - loss: 0.1859 - val_loss: 0.1947\n",
      "Epoch 39/200\n",
      "60/60 [==============================] - 0s 3ms/step - loss: 0.1860 - val_loss: 0.1941\n",
      "Epoch 40/200\n",
      "60/60 [==============================] - 0s 3ms/step - loss: 0.1860 - val_loss: 0.1940\n",
      "Epoch 41/200\n",
      "60/60 [==============================] - 0s 3ms/step - loss: 0.1859 - val_loss: 0.1941\n",
      "Epoch 42/200\n",
      "60/60 [==============================] - 0s 3ms/step - loss: 0.1859 - val_loss: 0.1941\n",
      "Epoch 43/200\n",
      "60/60 [==============================] - 0s 3ms/step - loss: 0.1859 - val_loss: 0.1942\n",
      "Epoch 44/200\n",
      "60/60 [==============================] - 0s 3ms/step - loss: 0.1859 - val_loss: 0.1947\n",
      "Epoch 45/200\n",
      "60/60 [==============================] - 0s 3ms/step - loss: 0.1861 - val_loss: 0.1942\n",
      "Epoch 46/200\n",
      "60/60 [==============================] - 0s 3ms/step - loss: 0.1862 - val_loss: 0.1942\n",
      "Epoch 47/200\n",
      "60/60 [==============================] - 0s 3ms/step - loss: 0.1857 - val_loss: 0.1939\n",
      "Epoch 48/200\n",
      "60/60 [==============================] - 0s 3ms/step - loss: 0.1861 - val_loss: 0.1957\n",
      "Epoch 49/200\n",
      "60/60 [==============================] - 0s 3ms/step - loss: 0.1864 - val_loss: 0.1942\n",
      "Epoch 50/200\n",
      "60/60 [==============================] - 0s 3ms/step - loss: 0.1858 - val_loss: 0.1941\n",
      "Epoch 51/200\n",
      "60/60 [==============================] - 0s 3ms/step - loss: 0.1855 - val_loss: 0.1941\n",
      "Epoch 52/200\n",
      "60/60 [==============================] - 0s 3ms/step - loss: 0.1857 - val_loss: 0.1942\n",
      "Epoch 53/200\n",
      "60/60 [==============================] - 0s 3ms/step - loss: 0.1856 - val_loss: 0.1938\n",
      "Epoch 54/200\n",
      "60/60 [==============================] - 0s 3ms/step - loss: 0.1868 - val_loss: 0.1965\n",
      "Epoch 55/200\n",
      "60/60 [==============================] - 0s 3ms/step - loss: 0.1863 - val_loss: 0.1947\n",
      "Epoch 56/200\n",
      "60/60 [==============================] - 0s 3ms/step - loss: 0.1864 - val_loss: 0.1945\n",
      "Epoch 57/200\n",
      "60/60 [==============================] - 0s 3ms/step - loss: 0.1862 - val_loss: 0.1942\n",
      "Epoch 58/200\n",
      "60/60 [==============================] - 0s 4ms/step - loss: 0.1857 - val_loss: 0.1938\n",
      "Epoch 59/200\n",
      "60/60 [==============================] - 0s 3ms/step - loss: 0.1857 - val_loss: 0.1939\n",
      "Epoch 60/200\n",
      "60/60 [==============================] - 0s 3ms/step - loss: 0.1856 - val_loss: 0.1941\n",
      "Epoch 61/200\n",
      "60/60 [==============================] - 0s 3ms/step - loss: 0.1854 - val_loss: 0.1935\n",
      "Epoch 62/200\n",
      "60/60 [==============================] - 0s 3ms/step - loss: 0.1852 - val_loss: 0.1934\n",
      "Epoch 63/200\n",
      "60/60 [==============================] - 0s 3ms/step - loss: 0.1851 - val_loss: 0.1935\n",
      "Epoch 64/200\n",
      "60/60 [==============================] - 0s 3ms/step - loss: 0.1855 - val_loss: 0.1962\n",
      "Epoch 65/200\n",
      "60/60 [==============================] - 0s 3ms/step - loss: 0.1860 - val_loss: 0.1937\n",
      "Epoch 66/200\n",
      "60/60 [==============================] - 0s 3ms/step - loss: 0.1855 - val_loss: 0.1937\n",
      "Epoch 67/200\n",
      "60/60 [==============================] - 0s 3ms/step - loss: 0.1853 - val_loss: 0.1935\n",
      "Epoch 68/200\n",
      "60/60 [==============================] - 0s 3ms/step - loss: 0.1851 - val_loss: 0.1934\n",
      "Epoch 69/200\n",
      "60/60 [==============================] - 0s 3ms/step - loss: 0.1850 - val_loss: 0.1934\n",
      "Epoch 70/200\n",
      "60/60 [==============================] - 0s 3ms/step - loss: 0.1851 - val_loss: 0.1933\n",
      "Epoch 71/200\n",
      "60/60 [==============================] - 0s 5ms/step - loss: 0.1850 - val_loss: 0.1933\n",
      "Epoch 72/200\n",
      "60/60 [==============================] - 0s 4ms/step - loss: 0.1850 - val_loss: 0.1933\n",
      "Epoch 73/200\n",
      "60/60 [==============================] - 0s 4ms/step - loss: 0.1850 - val_loss: 0.1934\n",
      "Epoch 74/200\n",
      "60/60 [==============================] - 0s 3ms/step - loss: 0.1850 - val_loss: 0.1933\n",
      "Epoch 75/200\n",
      "60/60 [==============================] - 0s 3ms/step - loss: 0.1850 - val_loss: 0.1933\n",
      "Epoch 76/200\n",
      "60/60 [==============================] - 0s 3ms/step - loss: 0.1849 - val_loss: 0.1939\n",
      "Epoch 77/200\n",
      "60/60 [==============================] - 0s 3ms/step - loss: 0.1851 - val_loss: 0.1938\n",
      "Epoch 78/200\n",
      "60/60 [==============================] - 0s 3ms/step - loss: 0.1852 - val_loss: 0.1933\n",
      "Epoch 79/200\n",
      "60/60 [==============================] - 0s 3ms/step - loss: 0.1851 - val_loss: 0.1939\n",
      "Epoch 80/200\n",
      "60/60 [==============================] - 0s 3ms/step - loss: 0.1851 - val_loss: 0.1936\n",
      "Epoch 81/200\n",
      "60/60 [==============================] - 0s 3ms/step - loss: 0.1850 - val_loss: 0.1951\n",
      "Epoch 82/200\n",
      "60/60 [==============================] - 0s 3ms/step - loss: 0.1855 - val_loss: 0.1940\n",
      "Epoch 83/200\n",
      "60/60 [==============================] - 0s 3ms/step - loss: 0.1854 - val_loss: 0.1947\n",
      "Epoch 84/200\n",
      "60/60 [==============================] - 0s 3ms/step - loss: 0.1858 - val_loss: 0.1957\n",
      "Epoch 85/200\n",
      "60/60 [==============================] - 0s 3ms/step - loss: 0.1857 - val_loss: 0.1937\n",
      "Epoch 86/200\n",
      "60/60 [==============================] - 0s 3ms/step - loss: 0.1856 - val_loss: 0.1936\n",
      "Epoch 87/200\n",
      "60/60 [==============================] - 0s 3ms/step - loss: 0.1854 - val_loss: 0.1933\n",
      "Epoch 88/200\n",
      "60/60 [==============================] - 0s 3ms/step - loss: 0.1850 - val_loss: 0.1932\n",
      "Epoch 89/200\n",
      "60/60 [==============================] - 0s 3ms/step - loss: 0.1848 - val_loss: 0.1936\n",
      "Epoch 90/200\n",
      "60/60 [==============================] - 0s 3ms/step - loss: 0.1849 - val_loss: 0.1932\n",
      "Epoch 91/200\n",
      "60/60 [==============================] - 0s 4ms/step - loss: 0.1849 - val_loss: 0.1933\n",
      "Epoch 92/200\n",
      "60/60 [==============================] - 0s 4ms/step - loss: 0.1848 - val_loss: 0.1932\n",
      "Epoch 93/200\n",
      "60/60 [==============================] - 0s 3ms/step - loss: 0.1849 - val_loss: 0.1947\n",
      "Epoch 94/200\n",
      "60/60 [==============================] - 0s 4ms/step - loss: 0.1850 - val_loss: 0.1930\n",
      "Epoch 95/200\n",
      "60/60 [==============================] - 0s 4ms/step - loss: 0.1847 - val_loss: 0.1932\n",
      "Epoch 96/200\n",
      "60/60 [==============================] - 0s 3ms/step - loss: 0.1848 - val_loss: 0.1934\n",
      "Epoch 97/200\n",
      "60/60 [==============================] - 0s 3ms/step - loss: 0.1852 - val_loss: 0.1943\n",
      "Epoch 98/200\n",
      " 1/60 [..............................] - ETA: 0s - loss: 0.1681"
     ]
    },
    {
     "ename": "KeyboardInterrupt",
     "evalue": "",
     "output_type": "error",
     "traceback": [
      "\u001b[1;31m---------------------------------------------------------------------------\u001b[0m",
      "\u001b[1;31mKeyboardInterrupt\u001b[0m                         Traceback (most recent call last)",
      "\u001b[1;32md:\\Academia\\BS\\7\\Machine Learning\\hw\\ML-practical-homeworks-fall-2022\\hw4\\Autoencoder\\Autoencoder.ipynb Cell 11\u001b[0m in \u001b[0;36m<cell line: 4>\u001b[1;34m()\u001b[0m\n\u001b[0;32m      <a href='vscode-notebook-cell:/d%3A/Academia/BS/7/Machine%20Learning/hw/ML-practical-homeworks-fall-2022/hw4/Autoencoder/Autoencoder.ipynb#X13sZmlsZQ%3D%3D?line=1'>2</a>\u001b[0m epochs \u001b[39m=\u001b[39m \u001b[39m200\u001b[39m\n\u001b[0;32m      <a href='vscode-notebook-cell:/d%3A/Academia/BS/7/Machine%20Learning/hw/ML-practical-homeworks-fall-2022/hw4/Autoencoder/Autoencoder.ipynb#X13sZmlsZQ%3D%3D?line=2'>3</a>\u001b[0m autoencoder\u001b[39m.\u001b[39mcompile(optimizer \u001b[39m=\u001b[39m Adam(learning_rate\u001b[39m=\u001b[39m\u001b[39m1e-3\u001b[39m), loss \u001b[39m=\u001b[39m MeanSquaredError())\n\u001b[1;32m----> <a href='vscode-notebook-cell:/d%3A/Academia/BS/7/Machine%20Learning/hw/ML-practical-homeworks-fall-2022/hw4/Autoencoder/Autoencoder.ipynb#X13sZmlsZQ%3D%3D?line=3'>4</a>\u001b[0m hist \u001b[39m=\u001b[39m autoencoder\u001b[39m.\u001b[39;49mfit(X_train, X_train, epochs \u001b[39m=\u001b[39;49m epochs, batch_size \u001b[39m=\u001b[39;49m \u001b[39m64\u001b[39;49m, shuffle \u001b[39m=\u001b[39;49m \u001b[39mFalse\u001b[39;49;00m,\n\u001b[0;32m      <a href='vscode-notebook-cell:/d%3A/Academia/BS/7/Machine%20Learning/hw/ML-practical-homeworks-fall-2022/hw4/Autoencoder/Autoencoder.ipynb#X13sZmlsZQ%3D%3D?line=4'>5</a>\u001b[0m  validation_data \u001b[39m=\u001b[39;49m (X_test, X_test), initial_epoch\u001b[39m=\u001b[39;49m\u001b[39m0\u001b[39;49m)\n\u001b[0;32m      <a href='vscode-notebook-cell:/d%3A/Academia/BS/7/Machine%20Learning/hw/ML-practical-homeworks-fall-2022/hw4/Autoencoder/Autoencoder.ipynb#X13sZmlsZQ%3D%3D?line=5'>6</a>\u001b[0m loss_per_epoch \u001b[39m=\u001b[39m hist\u001b[39m.\u001b[39mhistory[\u001b[39m'\u001b[39m\u001b[39mloss\u001b[39m\u001b[39m'\u001b[39m]\n\u001b[0;32m      <a href='vscode-notebook-cell:/d%3A/Academia/BS/7/Machine%20Learning/hw/ML-practical-homeworks-fall-2022/hw4/Autoencoder/Autoencoder.ipynb#X13sZmlsZQ%3D%3D?line=6'>7</a>\u001b[0m \u001b[39mprint\u001b[39m(loss_per_epoch)\n",
      "File \u001b[1;32mc:\\Users\\mohammad\\anaconda3\\lib\\site-packages\\keras\\utils\\traceback_utils.py:65\u001b[0m, in \u001b[0;36mfilter_traceback.<locals>.error_handler\u001b[1;34m(*args, **kwargs)\u001b[0m\n\u001b[0;32m     63\u001b[0m filtered_tb \u001b[39m=\u001b[39m \u001b[39mNone\u001b[39;00m\n\u001b[0;32m     64\u001b[0m \u001b[39mtry\u001b[39;00m:\n\u001b[1;32m---> 65\u001b[0m     \u001b[39mreturn\u001b[39;00m fn(\u001b[39m*\u001b[39margs, \u001b[39m*\u001b[39m\u001b[39m*\u001b[39mkwargs)\n\u001b[0;32m     66\u001b[0m \u001b[39mexcept\u001b[39;00m \u001b[39mException\u001b[39;00m \u001b[39mas\u001b[39;00m e:\n\u001b[0;32m     67\u001b[0m     filtered_tb \u001b[39m=\u001b[39m _process_traceback_frames(e\u001b[39m.\u001b[39m__traceback__)\n",
      "File \u001b[1;32mc:\\Users\\mohammad\\anaconda3\\lib\\site-packages\\keras\\engine\\training.py:1564\u001b[0m, in \u001b[0;36mModel.fit\u001b[1;34m(self, x, y, batch_size, epochs, verbose, callbacks, validation_split, validation_data, shuffle, class_weight, sample_weight, initial_epoch, steps_per_epoch, validation_steps, validation_batch_size, validation_freq, max_queue_size, workers, use_multiprocessing)\u001b[0m\n\u001b[0;32m   1556\u001b[0m \u001b[39mwith\u001b[39;00m tf\u001b[39m.\u001b[39mprofiler\u001b[39m.\u001b[39mexperimental\u001b[39m.\u001b[39mTrace(\n\u001b[0;32m   1557\u001b[0m     \u001b[39m\"\u001b[39m\u001b[39mtrain\u001b[39m\u001b[39m\"\u001b[39m,\n\u001b[0;32m   1558\u001b[0m     epoch_num\u001b[39m=\u001b[39mepoch,\n\u001b[1;32m   (...)\u001b[0m\n\u001b[0;32m   1561\u001b[0m     _r\u001b[39m=\u001b[39m\u001b[39m1\u001b[39m,\n\u001b[0;32m   1562\u001b[0m ):\n\u001b[0;32m   1563\u001b[0m     callbacks\u001b[39m.\u001b[39mon_train_batch_begin(step)\n\u001b[1;32m-> 1564\u001b[0m     tmp_logs \u001b[39m=\u001b[39m \u001b[39mself\u001b[39;49m\u001b[39m.\u001b[39;49mtrain_function(iterator)\n\u001b[0;32m   1565\u001b[0m     \u001b[39mif\u001b[39;00m data_handler\u001b[39m.\u001b[39mshould_sync:\n\u001b[0;32m   1566\u001b[0m         context\u001b[39m.\u001b[39masync_wait()\n",
      "File \u001b[1;32mc:\\Users\\mohammad\\anaconda3\\lib\\site-packages\\tensorflow\\python\\util\\traceback_utils.py:150\u001b[0m, in \u001b[0;36mfilter_traceback.<locals>.error_handler\u001b[1;34m(*args, **kwargs)\u001b[0m\n\u001b[0;32m    148\u001b[0m filtered_tb \u001b[39m=\u001b[39m \u001b[39mNone\u001b[39;00m\n\u001b[0;32m    149\u001b[0m \u001b[39mtry\u001b[39;00m:\n\u001b[1;32m--> 150\u001b[0m   \u001b[39mreturn\u001b[39;00m fn(\u001b[39m*\u001b[39margs, \u001b[39m*\u001b[39m\u001b[39m*\u001b[39mkwargs)\n\u001b[0;32m    151\u001b[0m \u001b[39mexcept\u001b[39;00m \u001b[39mException\u001b[39;00m \u001b[39mas\u001b[39;00m e:\n\u001b[0;32m    152\u001b[0m   filtered_tb \u001b[39m=\u001b[39m _process_traceback_frames(e\u001b[39m.\u001b[39m__traceback__)\n",
      "File \u001b[1;32mc:\\Users\\mohammad\\anaconda3\\lib\\site-packages\\tensorflow\\python\\eager\\def_function.py:915\u001b[0m, in \u001b[0;36mFunction.__call__\u001b[1;34m(self, *args, **kwds)\u001b[0m\n\u001b[0;32m    912\u001b[0m compiler \u001b[39m=\u001b[39m \u001b[39m\"\u001b[39m\u001b[39mxla\u001b[39m\u001b[39m\"\u001b[39m \u001b[39mif\u001b[39;00m \u001b[39mself\u001b[39m\u001b[39m.\u001b[39m_jit_compile \u001b[39melse\u001b[39;00m \u001b[39m\"\u001b[39m\u001b[39mnonXla\u001b[39m\u001b[39m\"\u001b[39m\n\u001b[0;32m    914\u001b[0m \u001b[39mwith\u001b[39;00m OptionalXlaContext(\u001b[39mself\u001b[39m\u001b[39m.\u001b[39m_jit_compile):\n\u001b[1;32m--> 915\u001b[0m   result \u001b[39m=\u001b[39m \u001b[39mself\u001b[39m\u001b[39m.\u001b[39m_call(\u001b[39m*\u001b[39margs, \u001b[39m*\u001b[39m\u001b[39m*\u001b[39mkwds)\n\u001b[0;32m    917\u001b[0m new_tracing_count \u001b[39m=\u001b[39m \u001b[39mself\u001b[39m\u001b[39m.\u001b[39mexperimental_get_tracing_count()\n\u001b[0;32m    918\u001b[0m without_tracing \u001b[39m=\u001b[39m (tracing_count \u001b[39m==\u001b[39m new_tracing_count)\n",
      "File \u001b[1;32mc:\\Users\\mohammad\\anaconda3\\lib\\site-packages\\tensorflow\\python\\eager\\def_function.py:947\u001b[0m, in \u001b[0;36mFunction._call\u001b[1;34m(self, *args, **kwds)\u001b[0m\n\u001b[0;32m    944\u001b[0m   \u001b[39mself\u001b[39m\u001b[39m.\u001b[39m_lock\u001b[39m.\u001b[39mrelease()\n\u001b[0;32m    945\u001b[0m   \u001b[39m# In this case we have created variables on the first call, so we run the\u001b[39;00m\n\u001b[0;32m    946\u001b[0m   \u001b[39m# defunned version which is guaranteed to never create variables.\u001b[39;00m\n\u001b[1;32m--> 947\u001b[0m   \u001b[39mreturn\u001b[39;00m \u001b[39mself\u001b[39m\u001b[39m.\u001b[39m_stateless_fn(\u001b[39m*\u001b[39margs, \u001b[39m*\u001b[39m\u001b[39m*\u001b[39mkwds)  \u001b[39m# pylint: disable=not-callable\u001b[39;00m\n\u001b[0;32m    948\u001b[0m \u001b[39melif\u001b[39;00m \u001b[39mself\u001b[39m\u001b[39m.\u001b[39m_stateful_fn \u001b[39mis\u001b[39;00m \u001b[39mnot\u001b[39;00m \u001b[39mNone\u001b[39;00m:\n\u001b[0;32m    949\u001b[0m   \u001b[39m# Release the lock early so that multiple threads can perform the call\u001b[39;00m\n\u001b[0;32m    950\u001b[0m   \u001b[39m# in parallel.\u001b[39;00m\n\u001b[0;32m    951\u001b[0m   \u001b[39mself\u001b[39m\u001b[39m.\u001b[39m_lock\u001b[39m.\u001b[39mrelease()\n",
      "File \u001b[1;32mc:\\Users\\mohammad\\anaconda3\\lib\\site-packages\\tensorflow\\python\\eager\\function.py:2496\u001b[0m, in \u001b[0;36mFunction.__call__\u001b[1;34m(self, *args, **kwargs)\u001b[0m\n\u001b[0;32m   2493\u001b[0m \u001b[39mwith\u001b[39;00m \u001b[39mself\u001b[39m\u001b[39m.\u001b[39m_lock:\n\u001b[0;32m   2494\u001b[0m   (graph_function,\n\u001b[0;32m   2495\u001b[0m    filtered_flat_args) \u001b[39m=\u001b[39m \u001b[39mself\u001b[39m\u001b[39m.\u001b[39m_maybe_define_function(args, kwargs)\n\u001b[1;32m-> 2496\u001b[0m \u001b[39mreturn\u001b[39;00m graph_function\u001b[39m.\u001b[39;49m_call_flat(\n\u001b[0;32m   2497\u001b[0m     filtered_flat_args, captured_inputs\u001b[39m=\u001b[39;49mgraph_function\u001b[39m.\u001b[39;49mcaptured_inputs)\n",
      "File \u001b[1;32mc:\\Users\\mohammad\\anaconda3\\lib\\site-packages\\tensorflow\\python\\eager\\function.py:1862\u001b[0m, in \u001b[0;36mConcreteFunction._call_flat\u001b[1;34m(self, args, captured_inputs, cancellation_manager)\u001b[0m\n\u001b[0;32m   1858\u001b[0m possible_gradient_type \u001b[39m=\u001b[39m gradients_util\u001b[39m.\u001b[39mPossibleTapeGradientTypes(args)\n\u001b[0;32m   1859\u001b[0m \u001b[39mif\u001b[39;00m (possible_gradient_type \u001b[39m==\u001b[39m gradients_util\u001b[39m.\u001b[39mPOSSIBLE_GRADIENT_TYPES_NONE\n\u001b[0;32m   1860\u001b[0m     \u001b[39mand\u001b[39;00m executing_eagerly):\n\u001b[0;32m   1861\u001b[0m   \u001b[39m# No tape is watching; skip to running the function.\u001b[39;00m\n\u001b[1;32m-> 1862\u001b[0m   \u001b[39mreturn\u001b[39;00m \u001b[39mself\u001b[39m\u001b[39m.\u001b[39m_build_call_outputs(\u001b[39mself\u001b[39;49m\u001b[39m.\u001b[39;49m_inference_function\u001b[39m.\u001b[39;49mcall(\n\u001b[0;32m   1863\u001b[0m       ctx, args, cancellation_manager\u001b[39m=\u001b[39;49mcancellation_manager))\n\u001b[0;32m   1864\u001b[0m forward_backward \u001b[39m=\u001b[39m \u001b[39mself\u001b[39m\u001b[39m.\u001b[39m_select_forward_and_backward_functions(\n\u001b[0;32m   1865\u001b[0m     args,\n\u001b[0;32m   1866\u001b[0m     possible_gradient_type,\n\u001b[0;32m   1867\u001b[0m     executing_eagerly)\n\u001b[0;32m   1868\u001b[0m forward_function, args_with_tangents \u001b[39m=\u001b[39m forward_backward\u001b[39m.\u001b[39mforward()\n",
      "File \u001b[1;32mc:\\Users\\mohammad\\anaconda3\\lib\\site-packages\\tensorflow\\python\\eager\\function.py:499\u001b[0m, in \u001b[0;36m_EagerDefinedFunction.call\u001b[1;34m(self, ctx, args, cancellation_manager)\u001b[0m\n\u001b[0;32m    497\u001b[0m \u001b[39mwith\u001b[39;00m _InterpolateFunctionError(\u001b[39mself\u001b[39m):\n\u001b[0;32m    498\u001b[0m   \u001b[39mif\u001b[39;00m cancellation_manager \u001b[39mis\u001b[39;00m \u001b[39mNone\u001b[39;00m:\n\u001b[1;32m--> 499\u001b[0m     outputs \u001b[39m=\u001b[39m execute\u001b[39m.\u001b[39;49mexecute(\n\u001b[0;32m    500\u001b[0m         \u001b[39mstr\u001b[39;49m(\u001b[39mself\u001b[39;49m\u001b[39m.\u001b[39;49msignature\u001b[39m.\u001b[39;49mname),\n\u001b[0;32m    501\u001b[0m         num_outputs\u001b[39m=\u001b[39;49m\u001b[39mself\u001b[39;49m\u001b[39m.\u001b[39;49m_num_outputs,\n\u001b[0;32m    502\u001b[0m         inputs\u001b[39m=\u001b[39;49margs,\n\u001b[0;32m    503\u001b[0m         attrs\u001b[39m=\u001b[39;49mattrs,\n\u001b[0;32m    504\u001b[0m         ctx\u001b[39m=\u001b[39;49mctx)\n\u001b[0;32m    505\u001b[0m   \u001b[39melse\u001b[39;00m:\n\u001b[0;32m    506\u001b[0m     outputs \u001b[39m=\u001b[39m execute\u001b[39m.\u001b[39mexecute_with_cancellation(\n\u001b[0;32m    507\u001b[0m         \u001b[39mstr\u001b[39m(\u001b[39mself\u001b[39m\u001b[39m.\u001b[39msignature\u001b[39m.\u001b[39mname),\n\u001b[0;32m    508\u001b[0m         num_outputs\u001b[39m=\u001b[39m\u001b[39mself\u001b[39m\u001b[39m.\u001b[39m_num_outputs,\n\u001b[1;32m   (...)\u001b[0m\n\u001b[0;32m    511\u001b[0m         ctx\u001b[39m=\u001b[39mctx,\n\u001b[0;32m    512\u001b[0m         cancellation_manager\u001b[39m=\u001b[39mcancellation_manager)\n",
      "File \u001b[1;32mc:\\Users\\mohammad\\anaconda3\\lib\\site-packages\\tensorflow\\python\\eager\\execute.py:54\u001b[0m, in \u001b[0;36mquick_execute\u001b[1;34m(op_name, num_outputs, inputs, attrs, ctx, name)\u001b[0m\n\u001b[0;32m     52\u001b[0m \u001b[39mtry\u001b[39;00m:\n\u001b[0;32m     53\u001b[0m   ctx\u001b[39m.\u001b[39mensure_initialized()\n\u001b[1;32m---> 54\u001b[0m   tensors \u001b[39m=\u001b[39m pywrap_tfe\u001b[39m.\u001b[39;49mTFE_Py_Execute(ctx\u001b[39m.\u001b[39;49m_handle, device_name, op_name,\n\u001b[0;32m     55\u001b[0m                                       inputs, attrs, num_outputs)\n\u001b[0;32m     56\u001b[0m \u001b[39mexcept\u001b[39;00m core\u001b[39m.\u001b[39m_NotOkStatusException \u001b[39mas\u001b[39;00m e:\n\u001b[0;32m     57\u001b[0m   \u001b[39mif\u001b[39;00m name \u001b[39mis\u001b[39;00m \u001b[39mnot\u001b[39;00m \u001b[39mNone\u001b[39;00m:\n",
      "\u001b[1;31mKeyboardInterrupt\u001b[0m: "
     ]
    }
   ],
   "source": [
    "# train the model and reduce the dimension of the data (15 Points)\n",
    "epochs = 200\n",
    "autoencoder.compile(optimizer = Adam(learning_rate=1e-3), loss = MeanSquaredError())\n",
    "hist = autoencoder.fit(X_train, X_train, epochs = epochs, batch_size = 64, shuffle = False,\n",
    " validation_data = (X_test, X_test), initial_epoch=0)\n",
    "loss_per_epoch = hist.history['loss']\n",
    "print(loss_per_epoch)"
   ]
  },
  {
   "cell_type": "code",
   "execution_count": 159,
   "metadata": {},
   "outputs": [
    {
     "data": {
      "text/plain": [
       "Text(0, 0.5, 'Loss Value')"
      ]
     },
     "execution_count": 159,
     "metadata": {},
     "output_type": "execute_result"
    },
    {
     "data": {
      "image/png": "[encoded data removed]",
      "text/plain": [
       "<Figure size 432x288 with 1 Axes>"
      ]
     },
     "metadata": {
      "needs_background": "light"
     },
     "output_type": "display_data"
    }
   ],
   "source": [
    "fig, ax = plt.subplots()\n",
    "epochs = np.array([i+1 for i in range(epochs)])\n",
    "ax.plot(epochs, loss_per_epoch, '-o')\n",
    "ax.set_title('Validation Loss Value per Number of Epochs')\n",
    "ax.set_xlabel('Number of Epoch')\n",
    "ax.set_ylabel('Loss Value')"
   ]
  },
  {
   "cell_type": "code",
   "execution_count": 160,
   "metadata": {},
   "outputs": [
    {
     "name": "stdout",
     "output_type": "stream",
     "text": [
      "119/119 [==============================] - 0s 1ms/step\n",
      "51/51 [==============================] - 0s 1ms/step\n"
     ]
    }
   ],
   "source": [
    "encoder = Model(inputs = input_layer, outputs= latent)\n",
    "encoded_input = Input(shape = (encoding_dim, ))\n",
    "encoded_train = pd.DataFrame(encoder.predict(X_train))\n",
    "encoded_test = pd.DataFrame(encoder.predict(X_test))"
   ]
  },
  {
   "cell_type": "code",
   "execution_count": 161,
   "metadata": {},
   "outputs": [
    {
     "name": "stdout",
     "output_type": "stream",
     "text": [
      "tf.Tensor(\n",
      "[[3.2472074e-30 2.3357894e-02 1.0000000e+00 1.7470484e-27 4.2222597e-19\n",
      "  8.8114394e-10 1.0000000e+00 2.4947622e-05 9.9999976e-01 2.9946646e-05\n",
      "  1.4856901e-27 1.3640408e-15 1.0000000e+00 1.5194813e-23 0.0000000e+00\n",
      "  0.0000000e+00 1.3842362e-17 1.7028894e-21 0.0000000e+00 0.0000000e+00]\n",
      " [8.9761478e-01 1.0000000e+00 1.0000000e+00 1.0000000e+00 1.0000000e+00\n",
      "  0.0000000e+00 1.0000000e+00 1.0000000e+00 1.0000000e+00 9.9999678e-01\n",
      "  1.0000000e+00 1.5300079e-17 9.9999988e-01 1.0394133e-11 9.9925280e-01\n",
      "  2.5011759e-04 1.0000000e+00 1.1142994e-04 0.0000000e+00 0.0000000e+00]\n",
      " [1.0000000e+00 1.0000000e+00 1.0000000e+00 1.0000000e+00 2.5073398e-14\n",
      "  0.0000000e+00 0.0000000e+00 0.0000000e+00 0.0000000e+00 5.0823331e-07\n",
      "  4.0902153e-27 1.0000000e+00 0.0000000e+00 1.0000000e+00 1.0000000e+00\n",
      "  1.0000000e+00 1.0000000e+00 1.0000000e+00 0.0000000e+00 0.0000000e+00]\n",
      " [1.0000000e+00 1.0000000e+00 1.0000000e+00 1.0000000e+00 9.9999911e-01\n",
      "  0.0000000e+00 0.0000000e+00 0.0000000e+00 0.0000000e+00 1.4062861e-06\n",
      "  1.1366688e-29 1.0000000e+00 0.0000000e+00 1.0000000e+00 1.0000000e+00\n",
      "  1.0000000e+00 1.0000000e+00 1.0000000e+00 0.0000000e+00 0.0000000e+00]\n",
      " [1.0000000e+00 1.0000000e+00 1.0000000e+00 1.0000000e+00 2.0579384e-11\n",
      "  0.0000000e+00 9.4899730e-07 2.0673666e-24 0.0000000e+00 9.9990004e-01\n",
      "  1.0000000e+00 1.0000000e+00 1.7774780e-37 1.6120066e-03 3.0745456e-12\n",
      "  1.0000000e+00 5.5813618e-15 1.0000000e+00 0.0000000e+00 0.0000000e+00]], shape=(5, 20), dtype=float32)\n",
      "[[1. 0. 1. 0. 0. 0. 1. 0. 1. 0. 0. 0. 0. 0. 0. 0. 1. 1. 0. 0.]\n",
      " [1. 1. 0. 1. 0. 0. 1. 1. 1. 1. 0. 0. 1. 0. 1. 1. 0. 0. 0. 0.]\n",
      " [0. 1. 1. 1. 0. 0. 0. 0. 0. 0. 0. 0. 1. 1. 1. 0. 1. 1. 0. 0.]\n",
      " [0. 1. 1. 1. 1. 0. 0. 0. 0. 0. 0. 1. 1. 1. 0. 1. 1. 1. 0. 0.]\n",
      " [1. 0. 1. 1. 0. 0. 0. 1. 0. 1. 0. 1. 0. 0. 0. 0. 1. 1. 0. 0.]]\n"
     ]
    }
   ],
   "source": [
    "predicted_X_train = autoencoder(X_train)\n",
    "# print(predicted_X_train[7])\n",
    "# print(predicted_X_train.shape)\n",
    "# print(X_train.shape)\n"
   ]
  },
  {
   "cell_type": "code",
   "execution_count": 162,
   "metadata": {},
   "outputs": [
    {
     "name": "stdout",
     "output_type": "stream",
     "text": [
      "              0          1\n",
      "0      1.163220   4.762868\n",
      "1     15.118462   0.000000\n",
      "2     47.616325  16.253077\n",
      "3     48.697876  14.709255\n",
      "4     22.524694   7.652384\n",
      "...         ...        ...\n",
      "3798   0.000000   2.861007\n",
      "3799  20.537453  14.700619\n",
      "3800  27.684927  13.980925\n",
      "3801  25.407015  13.096668\n",
      "3802  12.918259   1.428163\n",
      "\n",
      "[3803 rows x 2 columns]\n"
     ]
    },
    {
     "data": {
      "image/png": "[encoded data removed]",
      "text/plain": [
       "<Figure size 432x288 with 1 Axes>"
      ]
     },
     "metadata": {
      "needs_background": "light"
     },
     "output_type": "display_data"
    }
   ],
   "source": [
    "print(encoded_train)\n",
    "# print(encoded_test)\n",
    "plt.scatter(encoded_train[:][0], encoded_train[:][1])\n",
    "plt.show()"
   ]
  },
  {
   "cell_type": "code",
   "execution_count": 5,
   "metadata": {},
   "outputs": [],
   "source": [
    "# Plot the encoded data (10 Points)"
   ]
  }
 ],
 "metadata": {
  "colab": {
   "provenance": []
  },
  "kernelspec": {
   "display_name": "Python 3.9.12 ('base')",
   "language": "python",
   "name": "python3"
  },
  "language_info": {
   "codemirror_mode": {
    "name": "ipython",
    "version": 3
   },
   "file_extension": ".py",
   "mimetype": "text/x-python",
   "name": "python",
   "nbconvert_exporter": "python",
   "pygments_lexer": "ipython3",
   "version": "3.9.12"
  },
  "vscode": {
   "interpreter": {
    "hash": "91b410dd9a8bb11c536d001ad40742c19c082a60dfe79daca26509b38e876541"
   }
  }
 },
 "nbformat": 4,
 "nbformat_minor": 1
}
