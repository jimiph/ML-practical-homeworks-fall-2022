{
 "cells": [
  {
   "cell_type": "markdown",
   "id": "52d3a943",
   "metadata": {},
   "source": [
    "<img src='http://www-scf.usc.edu/~ghasemig/images/sharif.png' alt=\"SUT logo\" width=200 height=200 align=left class=\"saturate\" >\n",
    "\n",
    "<br>\n",
    "<font face=\"Times New Roman\">\n",
    "<div dir=ltr align=center>\n",
    "<font color=0F5298 size=7>\n",
    "    Introduction to Machine Learning <br>\n",
    "<font color=2565AE size=5>\n",
    "    Computer Engineering Department <br>\n",
    "    Fall 2022<br>\n",
    "<font color=3C99D size=5>\n",
    "    Homework 3: Practical - ML Models for Tabular Datasets <br>\n",
    "<font color=696880 size=4>\n",
    "    Niloufar Razani \n",
    "    \n",
    "    \n",
    "____"
   ]
  },
  {
   "cell_type": "markdown",
   "id": "afcf1f24",
   "metadata": {},
   "source": [
    "### Full Name : Mohammad Jamshidi\n",
    "### Student Number : 98100718\n",
    "___"
   ]
  },
  {
   "cell_type": "markdown",
   "id": "8c097381",
   "metadata": {},
   "source": [
    "<font face=\"Times New Roman\" size=4><div dir=ltr>\n",
    "In this homework we are going to implement Adaboost algorithm from scratch. Please read this chapter's <a href=\"https://github.com/asharifiz/Introduction_to_Machine_Learning/tree/main/Jupyter_Notebooks/Chapter_04_Tabular_Data_Models\"><font face=\"Roboto\">notebook</font></a> and then complete the #TODO sections. <br>\n",
    "We will use the heart_disease.csv dataset, which you can see more details about in this <a href=\"https://www.kaggle.com/datasets/johnsmith88/heart-disease-dataset?resource=download&select=heart.csv\"><font face=\"Roboto\">Link</font></a>.\n",
    "___"
   ]
  },
  {
   "cell_type": "code",
   "execution_count": 1,
   "id": "1a687a71",
   "metadata": {},
   "outputs": [],
   "source": [
    "import numpy as np\n",
    "import pandas as pd\n",
    "import seaborn as sns\n",
    "import matplotlib.pyplot as plt"
   ]
  },
  {
   "cell_type": "markdown",
   "id": "3b152c1e",
   "metadata": {},
   "source": [
    "### Data Prepration (10 points) \n",
    "1.   Load Dataset\n",
    "2.   Separate target feaure\n",
    "3.   Change class labels to 1 and -1\n",
    "4.   Do train-test split"
   ]
  },
  {
   "cell_type": "code",
   "execution_count": 2,
   "id": "159d3986",
   "metadata": {},
   "outputs": [],
   "source": [
    "class DataPreparation():\n",
    "    \n",
    "    def __init__(self, dataset_csv_path, test_size=0.2, random_state=42, class_labels_change={1:1, 0:-1}):\n",
    "        self.dataset_csv_path = dataset_csv_path\n",
    "        self.test_size = test_size\n",
    "        self.random_state = random_state\n",
    "        self.class_labels_change = class_labels_change\n",
    "        self.feature_names = None\n",
    "        self.target_name = None\n",
    "        self.find_feature_target_names()\n",
    "        self.features_data = None\n",
    "        self.target_data = None\n",
    "        self.data_num = None\n",
    "        self.separate_data()\n",
    "        self.modify_class_labels()\n",
    "        \n",
    "    def find_feature_target_names(self):\n",
    "        \"\"\" \n",
    "        Finding names of features and target.\n",
    "        Args: self\n",
    "        Returns: \n",
    "        \"\"\"\n",
    "        with open (self.dataset_csv_path, 'r') as file:\n",
    "            header = file.readline()\n",
    "        header = np.array([name for name in header.split(',')])\n",
    "        self.feature_names = header[0:-1]\n",
    "        self.target_name = header[-1]\n",
    "\n",
    "    def separate_data(self):\n",
    "        \"\"\"\n",
    "        Separating dataset into features and target.\n",
    "        Args: self\n",
    "        Returns: \n",
    "        \"\"\"\n",
    "        dataset = np.loadtxt(self.dataset_csv_path, delimiter=',', skiprows=1)\n",
    "        self.data_num = dataset.shape[0]\n",
    "        features_cols_indices = [_ for _ in range(len(self.feature_names))]\n",
    "        target_col_index = len(self.feature_names)\n",
    "        self.features_data = dataset[:, features_cols_indices]\n",
    "        self.target_data = dataset[:, target_col_index]\n",
    "\n",
    "    def modify_class_labels(self):\n",
    "        \"\"\"    \n",
    "        Changing labels of classes if necessary.\n",
    "        Args: self\n",
    "        Returns: \n",
    "        \"\"\"\n",
    "        self.separate_data()\n",
    "        for (i, label) in enumerate(list(self.class_labels_change.keys())):\n",
    "            new_label = list(self.class_labels_change.values())[i]\n",
    "            new_arr = self.target_data\n",
    "            resulted_target = np.where(new_arr==label, new_label, new_arr)\n",
    "            self.target_data = resulted_target\n",
    "\n",
    "    def split_data(self):\n",
    "        \"\"\" \n",
    "        Splitting dataset into training, validation and test sets.\n",
    "        Args: self\n",
    "        Returns:\n",
    "        \"\"\"\n",
    "        test_size = int(self.test_size * self.data_num)\n",
    "        test_indices = np.random.choice(test_size, test_size, replace=False)\n",
    "        train_indices = []\n",
    "        for index in range(self.data_num):\n",
    "            if index not in test_indices:\n",
    "                train_indices.append(index)\n",
    "\n",
    "        x_train = self.features_data[train_indices]\n",
    "        x_test = self.features_data[test_indices]\n",
    "        y_train = self.target_data[train_indices]\n",
    "        y_test = self.target_data[test_indices]\n",
    "        return x_train, y_train, x_test, y_test\n",
    "data = DataPreparation(dataset_csv_path=\"heart_disease.csv\")\n",
    "x_train, y_train, x_test, y_test = data.split_data()"
   ]
  },
  {
   "cell_type": "markdown",
   "id": "695a1fc7",
   "metadata": {},
   "source": [
    "### Adaboost Algorithm Implementation (40 points)"
   ]
  },
  {
   "cell_type": "code",
   "execution_count": 3,
   "id": "95f76156",
   "metadata": {},
   "outputs": [],
   "source": [
    "from sklearn.tree import DecisionTreeClassifier\n",
    "\n",
    "def calculate_error(y, y_pred, w):\n",
    "    #TODO : Calculate the weighted error of a weak classifier.\n",
    "    indices = np.where(y!=y_pred)[0]\n",
    "    error = np.sum(w[indices])/np.sum(w)\n",
    "    return error\n",
    "    \n",
    "\n",
    "def calculate_alpha(error):\n",
    "    #TODO : Calculate the weight of a weak classifier.\n",
    "    eta = 0.1\n",
    "    alpha = eta * np.log((1-error)/error)\n",
    "    return alpha\n",
    "\n",
    "    \n",
    "def update_weights(w, alpha, y, y_pred):\n",
    "    #TODO : Update weights after a boosting iteration.\n",
    "    indices = np.where(y!=y_pred)\n",
    "    w[indices] = np.exp(alpha) * w[indices]\n",
    "    return w\n",
    "    \n",
    "    \n",
    "class AdaBoost:\n",
    "    \n",
    "    def __init__(self):\n",
    "        self.alphas = []\n",
    "        self.G_M = []\n",
    "        self.training_errors = []\n",
    "\n",
    "    def fit(self, X, y, M = 100):\n",
    "        \n",
    "        self.alphas = [] \n",
    "        self.training_errors = []\n",
    "        self.M = M\n",
    "\n",
    "        for m in range(0, M):\n",
    "            \n",
    "            # Set weights\n",
    "            if m == 0:\n",
    "                w = (1/np.ones(X.shape[0])) * np.ones(X.shape[0])\n",
    "                 \n",
    "            else:\n",
    "                w = update_weights(w, alpha, y, y_pred)\n",
    "                # w = w / np.sum(w)\n",
    "               \n",
    "            \n",
    "            # 1. Fit weak classifier and predict labels(using predict method) and Save it to list of weak classifiers.\n",
    "            #TODO\n",
    "            estimator = DecisionTreeClassifier(max_depth=1, max_leaf_nodes=2)\n",
    "            estimator.fit(X, y, sample_weight=w)\n",
    "            y_pred = estimator.predict(X) \n",
    "            self.G_M.append(estimator)\n",
    "\n",
    "\n",
    "            # 2. Calculate error of this weak classifier and save it to list of trainingterrors.\n",
    "            #TODO\n",
    "            error = calculate_error(y, y_pred, w)\n",
    "            self.training_errors.append(error)\n",
    "\n",
    "            # 3. Calculate alpha of this weak classifier and save it to list of alphas.\n",
    "            #TODO\n",
    "            alpha = calculate_alpha(error)\n",
    "            self.alphas.append(alpha)\n",
    "\n",
    "    def predict(self, X):\n",
    "\n",
    "        weak_preds = pd.DataFrame(index = range(len(X)), columns = range(self.M)) \n",
    "\n",
    "        for m in range(self.M):\n",
    "            y_pred_m = self.G_M[m].predict(X) * self.alphas[m]\n",
    "            weak_preds.iloc[:,m] = y_pred_m\n",
    "\n",
    "        y_pred = (1 * np.sign(weak_preds.T.sum())).astype(int)\n",
    "\n",
    "        return y_pred"
   ]
  },
  {
   "cell_type": "markdown",
   "id": "f27f8987",
   "metadata": {},
   "source": [
    "### Training and Evaluation (20 points)"
   ]
  },
  {
   "cell_type": "code",
   "execution_count": 82,
   "id": "2986c7a1",
   "metadata": {},
   "outputs": [
    {
     "name": "stdout",
     "output_type": "stream",
     "text": [
      "              P       N\n",
      "            T   [99      86]\n",
      "            F   [5      15]\n",
      "Accuracy: 0.9024390243902439\n",
      "Precisison: 0.5351351351351351\n",
      "Recall: 0.868421052631579\n",
      "F-Score: 0.33110367892976594\n",
      "0.9024390243902439\n"
     ]
    }
   ],
   "source": [
    "#TODO : Fit model\n",
    "AdaBoostClassifier = AdaBoost()\n",
    "AdaBoostClassifier.fit(x_train, y_train)\n",
    "\n",
    "#TODO : Predict on test data\n",
    "y_pred = AdaBoostClassifier.predict(x_test)\n",
    "\n",
    "#TODO : Print evaluation metrics (Accurcy, Precission, Recall and f-score)\n",
    "\n",
    "class evaluaiton():\n",
    "    def __init__(self, y_test, y_pred, printing=False):\n",
    "        self.printing = printing\n",
    "        self.y_pred = y_pred\n",
    "        self.y_test = y_test\n",
    "        self.accuracy = None\n",
    "        self.precission = None\n",
    "        self.recall = None\n",
    "        self.f_score = None\n",
    "        self.find_confusion_matrix_elements()\n",
    "        self.print_confusion_matrix()\n",
    "        self.find_accuracy()\n",
    "        self.find_precission()\n",
    "        self.find_recall()\n",
    "        self.find_f_score()\n",
    "\n",
    "    def find_confusion_matrix_elements(self):\n",
    "        self.tp = len([i for i in y_test[np.where(y_test==y_pred)] if i==1])\n",
    "        self.tn = len([i for i in y_test[np.where(y_test==y_pred)] if i!=1])\n",
    "        self.fp = len([i for i in y_test[np.where(y_test!=y_pred)] if i==1])\n",
    "        self.fn = len([i for i in y_test[np.where(y_test!=y_pred)] if i!=1])\n",
    "\n",
    "    def print_confusion_matrix(self):\n",
    "        self.confusion_matrix = np.array([[self.tp, self.tn], [self.fp, self.fn]])\n",
    "        if self.printing:\n",
    "            print(f\"\"\"              P       N\n",
    "            T   [{self.tp}      {self.tn}]\n",
    "            F   [{self.fp}      {self.fn}]\"\"\")\n",
    "\n",
    "    def find_accuracy(self):\n",
    "        self.accuracy = (self.tp + self.tn) / (self.tp + self.tn + self.fp + self.fn)\n",
    "        if self.printing:\n",
    "            print(f\"Accuracy: {self.accuracy}\")\n",
    "        return self.accuracy\n",
    "        \n",
    "    def find_precission(self):\n",
    "        self.precission = (self.tp) / (self.tp + self.tn)\n",
    "        if self.printing:\n",
    "            print(f\"Precisison: {self.precission}\")\n",
    "        return self.precission\n",
    "\n",
    "    def find_recall(self):\n",
    "        self.recall = (self.tp) / (self.tp + self.fn)\n",
    "        if self.printing:\n",
    "            print(f\"Recall: {self.recall}\")\n",
    "\n",
    "    def find_f_score(self):\n",
    "        self.f_score = 1 / (1/self.recall + 1/self.precission)\n",
    "        if self.printing:\n",
    "            print(f\"F-Score: {self.f_score}\")\n",
    "        return self.f_score\n",
    "\n",
    "\n",
    "evaluaiton_result = evaluaiton(y_test=y_test, y_pred=y_pred, printing=True)\n",
    "print(evaluaiton(y_test=y_test, y_pred=y_pred).accuracy)\n"
   ]
  },
  {
   "cell_type": "code",
   "execution_count": 77,
   "id": "39bb9216",
   "metadata": {},
   "outputs": [
    {
     "name": "stdout",
     "output_type": "stream",
     "text": [
      "              P       N\n",
      "        T   [96      95]\n",
      "        F   [8      6]\n",
      "Accuracy: 0.9317073170731708\n",
      "Precisison: 0.5026178010471204\n",
      "Recall: 0.9411764705882353\n",
      "F-Score: 0.32764505119453924\n"
     ]
    }
   ],
   "source": [
    "#TODO : Do Scikit-Learn implementation of AdaBoost and print evaluation metrics\n",
    "from sklearn.ensemble import AdaBoostClassifier\n",
    "adaclf = AdaBoostClassifier(n_estimators=100, random_state=42)\n",
    "adaclf.fit(x_train, y_train)\n",
    "y_pred = adaclf.predict(x_test)\n",
    "evaluaiton_result2 = evaluaiton(y_test=y_test, y_pred=y_pred)\n"
   ]
  },
  {
   "cell_type": "markdown",
   "id": "e8fdcb6d",
   "metadata": {},
   "source": [
    "### Early Stopping (15 points)"
   ]
  },
  {
   "cell_type": "code",
   "execution_count": 89,
   "id": "ac86c294",
   "metadata": {},
   "outputs": [
    {
     "name": "stdout",
     "output_type": "stream",
     "text": [
      "max accuracy: 0.9073170731707317\n",
      "best number of estimators: [35 45 50]\n"
     ]
    }
   ],
   "source": [
    "#TODO : Calculate validation error for different number of estimators \n",
    "n_estimator_list = np.array([5*(i+1) for i in range(100)])\n",
    "\"\"\"\n",
    "I use the accuracy of the model as a criteria for finding the best number of \n",
    "estimators.\n",
    "\"\"\"\n",
    "accuracy_list = np.zeros(len(n_estimator_list))\n",
    "for (i, n_estimator) in enumerate(n_estimator_list):\n",
    "    model = AdaBoost()\n",
    "    model.fit(X=x_train, y=y_train, M=n_estimator)\n",
    "    y_pred = model.predict(X=x_test)\n",
    "    accuracy_list[i] = evaluaiton(y_pred=y_pred, y_test=y_test).accuracy\n",
    "    "
   ]
  },
  {
   "cell_type": "code",
   "execution_count": 99,
   "id": "d6e06fea",
   "metadata": {},
   "outputs": [
    {
     "name": "stderr",
     "output_type": "stream",
     "text": [
      "C:\\Users\\mohammad\\AppData\\Local\\Temp\\ipykernel_11380\\3345395914.py:7: UserWarning: Matplotlib is currently using module://matplotlib_inline.backend_inline, which is a non-GUI backend, so cannot show the figure.\n",
      "  fig.show()\n"
     ]
    },
    {
     "data": {
      "image/png": "[encoded data removed]",
      "text/plain": [
       "<Figure size 432x288 with 1 Axes>"
      ]
     },
     "metadata": {
      "needs_background": "light"
     },
     "output_type": "display_data"
    }
   ],
   "source": [
    "#TODO : Plot validation error versus number of estimators figure.\n",
    "fig, ax = plt.subplots()\n",
    "ax.set_title('accuracy score per number of estimators')\n",
    "ax.set_xlabel('number of estimators')\n",
    "ax.set_ylabel('value of accuracy score')\n",
    "ax.plot(n_estimator_list, accuracy_list, '-go')\n",
    "fig.show()"
   ]
  },
  {
   "cell_type": "code",
   "execution_count": 100,
   "id": "cdfac096",
   "metadata": {},
   "outputs": [
    {
     "name": "stdout",
     "output_type": "stream",
     "text": [
      "max accuracy: 0.9073170731707317\n",
      "best number of estimators: [35 45 50]\n"
     ]
    }
   ],
   "source": [
    "#TODO : Print the best number for estimators and minimum value for validation error.\n",
    "max_accuracy = np.max(accuracy_list)\n",
    "index_max_accuracy = np.where(accuracy_list==max_accuracy)[0]\n",
    "best_n_estimator = n_estimator_list[index_max_accuracy]\n",
    "print(\"max accuracy:\", max_accuracy)\n",
    "print(\"best number of estimators:\", best_n_estimator)"
   ]
  },
  {
   "cell_type": "markdown",
   "id": "ec46a972",
   "metadata": {},
   "source": [
    "### Weighted Error (10 points)"
   ]
  },
  {
   "cell_type": "code",
   "execution_count": 101,
   "id": "7471664f",
   "metadata": {},
   "outputs": [
    {
     "name": "stderr",
     "output_type": "stream",
     "text": [
      "C:\\Users\\mohammad\\AppData\\Local\\Temp\\ipykernel_11380\\3784881976.py:11: UserWarning: Matplotlib is currently using module://matplotlib_inline.backend_inline, which is a non-GUI backend, so cannot show the figure.\n",
      "  fig2.show()\n"
     ]
    },
    {
     "data": {
      "image/png": "[encoded data removed]",
      "text/plain": [
       "<Figure size 432x288 with 1 Axes>"
      ]
     },
     "metadata": {
      "needs_background": "light"
     },
     "output_type": "display_data"
    }
   ],
   "source": [
    "#TODO : Plot weighted training error versus number of estimators figure using training_errors attribute in Adaboost class.\n",
    "\n",
    "training_error = AdaBoostClassifier.training_errors\n",
    "number_of_estimators = np.array([i+1 for i in range(len(training_error))])\n",
    "\n",
    "fig2, ax2 = plt.subplots()\n",
    "ax2.set_title('training error per number of estimators')\n",
    "ax2.set_xlabel('number of estimators')\n",
    "ax2.set_ylabel('training error')\n",
    "ax2.plot(number_of_estimators, training_error, '-go')\n",
    "fig2.show()\n"
   ]
  },
  {
   "cell_type": "markdown",
   "id": "22f513e8",
   "metadata": {},
   "source": [
    "### Question : Why does the weighted error tend to increase as the number of estimators increase? (5points)"
   ]
  },
  {
   "cell_type": "code",
   "execution_count": 10,
   "id": "ef5055b8",
   "metadata": {},
   "outputs": [
    {
     "name": "stdout",
     "output_type": "stream",
     "text": [
      "1\n"
     ]
    }
   ],
   "source": [
    "\"\"\" \n",
    "This is because of the intrinsic of the algorithms. As we know updating the weights is done\n",
    "considering correct classified or incorrect classified items. When number of estimators increase\n",
    "there will be an increase in the complexity of the model, then an increase in the training error\n",
    "is expected.\n",
    "\n",
    "\"\"\""
   ]
  }
 ],
 "metadata": {
  "kernelspec": {
   "display_name": "Python 3.9.12 ('base')",
   "language": "python",
   "name": "python3"
  },
  "language_info": {
   "codemirror_mode": {
    "name": "ipython",
    "version": 3
   },
   "file_extension": ".py",
   "mimetype": "text/x-python",
   "name": "python",
   "nbconvert_exporter": "python",
   "pygments_lexer": "ipython3",
   "version": "3.9.12"
  },
  "vscode": {
   "interpreter": {
    "hash": "91b410dd9a8bb11c536d001ad40742c19c082a60dfe79daca26509b38e876541"
   }
  }
 },
 "nbformat": 4,
 "nbformat_minor": 5
}
